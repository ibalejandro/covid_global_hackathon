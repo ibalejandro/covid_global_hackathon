{
 "cells": [
  {
   "cell_type": "code",
   "execution_count": 1,
   "metadata": {},
   "outputs": [],
   "source": [
    "import cv2\n",
    "import matplotlib.pyplot as plt\n",
    "\n",
    "from remote import validate_video, process_video, calculate_spo2, calculate_heart_rate"
   ]
  },
  {
   "cell_type": "code",
   "execution_count": 2,
   "metadata": {},
   "outputs": [],
   "source": [
    "file = 'data/jmg-lamp.mp4'\n",
    "s3_file = 'https://covid5-videos.s3-us-west-1.amazonaws.com/dummy_video.mp4'\n",
    "video = cv2.VideoCapture(file)\n",
    "validate_video(video)\n",
    "video = process_video(video)"
   ]
  },
  {
   "cell_type": "code",
   "execution_count": 3,
   "metadata": {},
   "outputs": [
    {
     "name": "stdout",
     "output_type": "stream",
     "text": [
      "97.90659908920401\n",
      "normal\n"
     ]
    }
   ],
   "source": [
    "spo2 = calculate_spo2(video)\n",
    "spo2_disc = calculate_spo2(video, discretize=True)\n",
    "\n",
    "print(spo2)\n",
    "print(spo2_disc)"
   ]
  },
  {
   "cell_type": "code",
   "execution_count": null,
   "metadata": {},
   "outputs": [],
   "source": [
    "bpm = calculate_heart_rate(video)\n",
    "bpm_disc = calculate_heart_rate(video, discretize=True)\n",
    "\n",
    "print(bpm)\n",
    "print(bpm_disc)"
   ]
  }
 ],
 "metadata": {
  "kernelspec": {
   "display_name": "Python 3",
   "language": "python",
   "name": "python3"
  },
  "language_info": {
   "codemirror_mode": {
    "name": "ipython",
    "version": 3
   },
   "file_extension": ".py",
   "mimetype": "text/x-python",
   "name": "python",
   "nbconvert_exporter": "python",
   "pygments_lexer": "ipython3",
   "version": "3.7.3"
  }
 },
 "nbformat": 4,
 "nbformat_minor": 4
}
